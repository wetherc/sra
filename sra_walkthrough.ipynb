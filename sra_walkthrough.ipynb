{
 "cells": [
  {
   "cell_type": "code",
   "execution_count": 1,
   "metadata": {},
   "outputs": [],
   "source": [
    "import scipy\n",
    "import pandas as pd\n",
    "import numpy as np\n",
    "import matplotlib.pyplot as plt\n",
    "from sklearn import datasets\n",
    "from typing import List, Tuple"
   ]
  },
  {
   "cell_type": "code",
   "execution_count": 2,
   "metadata": {},
   "outputs": [],
   "source": [
    "data = pd.DataFrame({\n",
    "    'sex': ['M', 'M'],\n",
    "    'marital': ['S', 'M'],\n",
    "    'homeowner': ['Y', 'N']\n",
    "})"
   ]
  },
  {
   "cell_type": "markdown",
   "metadata": {},
   "source": [
    "# Overlapping Simlarity\n",
    "\n",
    "Given two `n`-dimensional feature vectors, `x` and `y`, overlapping similarity is given by\n",
    "\n",
    "$$\n",
    "s^{O}(x, \\widetilde{x}) = 1 - d^{H}(x, \\widetilde{x})\n",
    "$$\n",
    "\n",
    "where $d^{H}(x, \\widetilde{x})$ is the Hamming distance defined as the number of features that $x$ and $\\widetilde{x}$ do not match, divided by the total number of features:\n",
    "\n",
    "$$\n",
    "d^{H}(x, \\widetilde{x}) = \\frac{\\sum_{i=1}^{n}\\delta(x_{i}, \\widetilde{x}_{i})}{n}\n",
    "$$\n",
    "\n",
    "where\n",
    "\n",
    "$$\n",
    "\\begin{equation}\n",
    "\\delta(x_{i}, \\widetilde{x}_{i}) = \\begin{cases}\n",
    "    1, & x_{i} \\neq \\widetilde{x}_{i} \\\\\n",
    "    0, & x_{i} = \\widetilde{x}_{i}\n",
    "\\end{cases}\n",
    "\\end{equation}\n",
    "$$\n",
    "\n",
    "By way of example, in the following dataset we have two feature vectors (i.e., two different observations). Both are male, but differ in marital status and homeowner status:"
   ]
  },
  {
   "cell_type": "code",
   "execution_count": 3,
   "metadata": {},
   "outputs": [
    {
     "data": {
      "text/html": [
       "<div>\n",
       "<style scoped>\n",
       "    .dataframe tbody tr th:only-of-type {\n",
       "        vertical-align: middle;\n",
       "    }\n",
       "\n",
       "    .dataframe tbody tr th {\n",
       "        vertical-align: top;\n",
       "    }\n",
       "\n",
       "    .dataframe thead th {\n",
       "        text-align: right;\n",
       "    }\n",
       "</style>\n",
       "<table border=\"1\" class=\"dataframe\">\n",
       "  <thead>\n",
       "    <tr style=\"text-align: right;\">\n",
       "      <th></th>\n",
       "      <th>sex</th>\n",
       "      <th>marital</th>\n",
       "      <th>homeowner</th>\n",
       "    </tr>\n",
       "  </thead>\n",
       "  <tbody>\n",
       "    <tr>\n",
       "      <th>0</th>\n",
       "      <td>M</td>\n",
       "      <td>S</td>\n",
       "      <td>Y</td>\n",
       "    </tr>\n",
       "    <tr>\n",
       "      <th>1</th>\n",
       "      <td>M</td>\n",
       "      <td>M</td>\n",
       "      <td>N</td>\n",
       "    </tr>\n",
       "  </tbody>\n",
       "</table>\n",
       "</div>"
      ],
      "text/plain": [
       "  sex marital homeowner\n",
       "0   M       S         Y\n",
       "1   M       M         N"
      ]
     },
     "execution_count": 3,
     "metadata": {},
     "output_type": "execute_result"
    }
   ],
   "source": [
    "data"
   ]
  },
  {
   "cell_type": "code",
   "execution_count": 4,
   "metadata": {},
   "outputs": [
    {
     "name": "stdout",
     "output_type": "stream",
     "text": [
      "Do the pairwise features differ? [False, True, True]\n",
      "Hamming distance between two observations: 0.6666666666666666\n",
      "Overlapping similarity: 0.33333333333333337\n"
     ]
    }
   ],
   "source": [
    "feature_difference = list(data.loc[0,:] != data.loc[1,:])\n",
    "print(f'Do the pairwise features differ? {feature_difference}')\n",
    "\n",
    "hamming_distance = sum(feature_difference) / data.shape[1]\n",
    "print(f'Hamming distance between two observations: {hamming_distance}')\n",
    "\n",
    "overlapping_similarity = 1 - hamming_distance\n",
    "print(f'Overlapping similarity: {overlapping_similarity}')"
   ]
  },
  {
   "cell_type": "markdown",
   "metadata": {},
   "source": [
    "# Weighted Hamming Distance\n",
    "\n",
    "Rather than averaging across all features in the vector, we can instead use a weighted measure that averages on a per-feature basis with respect to the number of distinct values that the specific feature can take on:\n",
    "$$\n",
    "d^{WH}(x, \\widetilde{x}) = \\sum_{i=1}^{n}\\frac{\\delta(x_{i}, \\widetilde{x}_{i})}{|\\mathcal{D}_{i}|}\n",
    "$$\n",
    "\n",
    "where $|\\mathcal{D}_{i}|$ is the _number_ of distinct possible values that a particular feature is able to assume. (E.g., for homeowner, there would be a cardinality of $2$ since you either are or are not a homeowner.) Applying this weighted distance to the above dataset yields:"
   ]
  },
  {
   "cell_type": "code",
   "execution_count": 5,
   "metadata": {},
   "outputs": [
    {
     "name": "stdout",
     "output_type": "stream",
     "text": [
      "Number of distinct possible values for each feature: sex          1\n",
      "marital      2\n",
      "homeowner    2\n",
      "dtype: int64\n",
      "Do the pairwise features differ? [False  True  True]\n",
      "Weighted Hamming distance between two observations: 1.0\n"
     ]
    }
   ],
   "source": [
    "cardinality = data.nunique()\n",
    "print(f'Number of distinct possible values for each feature: {cardinality}')\n",
    "\n",
    "feature_difference = np.array(data.loc[0,:] != data.loc[1,:])\n",
    "print(f'Do the pairwise features differ? {feature_difference}')\n",
    "\n",
    "w_hamming_distance = sum(feature_difference / cardinality)\n",
    "print(f'Weighted Hamming distance between two observations: {w_hamming_distance}')"
   ]
  },
  {
   "cell_type": "markdown",
   "metadata": {},
   "source": [
    "Note that in the above, we can no longer use the overlapping similarity metric defined previously since our weighted Hamming distance is no longer bounded on a $[0, 1]$ interval.\n",
    "\n",
    "# Extension to a Kernel\n",
    "\n",
    "A kernel function, or a kernel trick, at a high level is a mapping of data into a higher-dimensional, implicit feature space such that we can identify a hyperplane in which our data are linearly separable. Intuitively, the mapping can be visualized as:\n",
    "\n",
    "![](./assets/kernel.png)\n",
    "\n",
    "> Kernel methods apply standard machine learning algorithms that rely on distance metrics or inner products to data embedded into a feature space using kernel functions. The embedding of the data into a feature space is expected to capture and enhance the patterns and regularities in the data. Kernel methods proceed in two steps. The first step embeds the data into a feature space of high or infinite dimension, while the second step uses standard algorithms for classification, clustering, and principal component analysis to detect the regularities of the data in the feature space. The core of kernel methods relies on the use of kernel functions. A kernel function computes the inner product in a feature space of the embedding of two data points under a certain mapping, $\\phi$\n",
    "\n",
    "We can extend our Hamming distance to apply to a Gaussian kernel, by replacing Euclidean distance with it:\n",
    "$$\n",
    "k^{GH}(x, \\widetilde{x}) = e^{-\\frac{\\delta(x, \\widetilde{x})}{2\\sigma^{2}}}\n",
    "$$\n",
    "where $\\sigma > 0$ is a constant kernel width parameter.\n",
    "\n",
    "## Adaptive Gaussian Kernel\n",
    "\n",
    "In the above, $\\sigma$ is a constant parameter. We can, however, use an adaptive bandwidth parameter:\n",
    "$$\n",
    "k^{GH}(x, \\widetilde{x}) = e^{-\\frac{\\delta(x, \\widetilde{x})}{\\beta(x,\\widetilde{x})}}\n",
    "$$\n",
    "where $\\beta(x, \\widetilde{x})$ is an adaptive bandwidth determined by a fixed number of nearest neighbors of data instance $x$ and $\\widetilde{x}$.\n",
    "\n",
    "## Hamming Distance Kernel\n",
    "\n",
    "We can extend the above to a Hamming Distance Kernel, in which we consider $\\mathcal{D}^{n}$ to be the cross product over all $n$ input features. Formally, we can define this by\n",
    "\n",
    "_Let $D_{i}$ by a finite domain of categorical values. Let $(a_{1}, \\ldots, a_{n})$ by a categorical object such that $a_{i}\\in D_{i}$. Let $D^{n}=\\prod_{i=1}^{n}D_{i}$ be the cross product over all the domains of the attributes such that for each $(u_{1}, \\ldots, u_{n})\\in D^{n}$, $u_{i}\\in D_{i}$. Given a categorical object $s = (s_{1}, \\ldots, s_{n})$, $s_{k}$ denotes the value of the $k$-th attribute of $s$_\n",
    "\n",
    "To start, we begin be again ensuring that our columns are defined as categorical and then dummy encoding them to integers. I will also initialize an all-ones `NxN` kernel matrix where `N` is equal to the length of my dataset."
   ]
  },
  {
   "cell_type": "code",
   "execution_count": 6,
   "metadata": {},
   "outputs": [],
   "source": [
    "data = pd.DataFrame({\n",
    "    'sex': ['M', 'M', 'F'],\n",
    "    'marital': ['S', 'M', 'S'],\n",
    "    'homeowner': ['Y', 'N', 'Y']\n",
    "}, dtype='category')\n",
    "data = data.apply(lambda x: x.cat.codes)\n",
    "\n",
    "cardinality = data.nunique()\n",
    "damping_param = 0.6\n",
    "n = data.shape[0]\n",
    "k_j = np.ones(shape=(n, n))"
   ]
  },
  {
   "cell_type": "markdown",
   "metadata": {},
   "source": [
    "For each observation in the dataset, we can now compute its hamming distance from every other observation in the dataset and compute the recursive kernel step as\n",
    "$$\n",
    "\\begin{align}\n",
    "k^{0}(x, \\widetilde{x}) &= 1 \\\\\n",
    "k^{j}(x, \\widetilde{x}) &= (\\lambda^{2}(|\\mathcal{D}_{j}| - 1 - \\delta(x_{j},\\widetilde{x}_{j}))+(2\\lambda - 1)\\delta(x_{j}, \\widetilde{x}_{j} + 1)k^{j-1}(x, \\widetilde{x})\n",
    "\\end{align}\n",
    "$$\n",
    "for all values of $j = 1, \\ldots, n$"
   ]
  },
  {
   "cell_type": "code",
   "execution_count": 7,
   "metadata": {},
   "outputs": [
    {
     "data": {
      "text/plain": [
       "array([[2.515456, 1.9584  , 2.21952 ],\n",
       "       [1.9584  , 2.515456, 1.728   ],\n",
       "       [2.21952 , 1.728   , 2.515456]])"
      ]
     },
     "execution_count": 7,
     "metadata": {},
     "output_type": "execute_result"
    }
   ],
   "source": [
    "for col in range(len(cardinality)):\n",
    "    dhamming_j = np.not_equal.outer(\n",
    "        data.iloc[:, col].values,\n",
    "        data.iloc[:, col].values\n",
    "    )\n",
    "    k_j = (\n",
    "        (damping_param**2) * (cardinality[col] - 1 - dhamming_j) +\n",
    "        (2 * damping_param - 1) * dhamming_j + 1) * k_j\n",
    "    \n",
    "k_j"
   ]
  },
  {
   "cell_type": "markdown",
   "metadata": {},
   "source": [
    "# Spectral Ranking\n",
    "\n",
    "Now that we have a kernel matrix, we need to construct both an adjacency matrix, $W$, and a degree matrix, $D$. The adjacency matrix allows us to represent the data using an undirected graph $G=(V,E)$, with vertices $V=\\{v_{1}, v_{2}, \\ldots, v_{n}\\}$ corresponding to data instances (i.e., the rows and columns), and the cell values corresponding to the edges connecting each vertex to another. This allows us to summarize the similarity between two corresponding data instances, where $W_{ij}$ is the similarity between $v_{i}$ and $v_{j}$.\n",
    "\n",
    "To construct this adjacency matrix, we will normalize our kernel matrix such that the diagonal (a comparison of any observation against itself) is equal to $1$."
   ]
  },
  {
   "cell_type": "code",
   "execution_count": 8,
   "metadata": {},
   "outputs": [
    {
     "name": "stdout",
     "output_type": "stream",
     "text": [
      "[[1.         0.77854671 0.88235294]\n",
      " [0.77854671 1.         0.68695298]\n",
      " [0.88235294 0.68695298 1.        ]]\n"
     ]
    }
   ],
   "source": [
    "kern_diag = 1 / np.sqrt(np.diag(k_j))\n",
    "W = k_j * np.outer(kern_diag, kern_diag)\n",
    "print(W)"
   ]
  },
  {
   "cell_type": "markdown",
   "metadata": {},
   "source": [
    "We can then construct a degree vector $d$ of each vertex with $x_{i} = \\sum_{j}W_{ij}$ (i.e., the row sum for the observation), and from that create a degree matrix, $D$, with $d$ on the diagonal."
   ]
  },
  {
   "cell_type": "code",
   "execution_count": 9,
   "metadata": {},
   "outputs": [
    {
     "data": {
      "text/plain": [
       "array([[6.693376, 0.      , 0.      ],\n",
       "       [0.      , 6.201856, 0.      ],\n",
       "       [0.      , 0.      , 6.462976]])"
      ]
     },
     "execution_count": 9,
     "metadata": {},
     "output_type": "execute_result"
    }
   ],
   "source": [
    "n = W.shape[0]\n",
    "ident = np.zeros((n, n), float)\n",
    "np.fill_diagonal(ident, 1.)\n",
    "\n",
    "# Let D be the degree matrix of each vertex corresponding\n",
    "# the the row sum of the similarity matrix W\n",
    "d = np.sum(k_j, axis=1)\n",
    "D = np.zeros((n, n), float)\n",
    "np.fill_diagonal(D, d)\n",
    "D"
   ]
  },
  {
   "cell_type": "markdown",
   "metadata": {},
   "source": [
    "Having done this, we will now create a symmetric normalized Laplacian, $L=I - D^{-1/2}WD^{-1/2}$ where $I$ is an identity matrix."
   ]
  },
  {
   "cell_type": "code",
   "execution_count": 10,
   "metadata": {},
   "outputs": [
    {
     "data": {
      "text/plain": [
       "array([[ 0.85059856, -0.12083736, -0.13415395],\n",
       "       [-0.12083736,  0.83875795, -0.10850504],\n",
       "       [-0.13415395, -0.10850504,  0.84527252]])"
      ]
     },
     "execution_count": 10,
     "metadata": {},
     "output_type": "execute_result"
    }
   ],
   "source": [
    "D_inv_sqrt = np.linalg.inv(np.sqrt(D))\n",
    "\n",
    "# Let L be the symmetric normalized Laplacian\n",
    "L = ident - np.dot(D_inv_sqrt, W).dot(D_inv_sqrt)\n",
    "L"
   ]
  },
  {
   "cell_type": "markdown",
   "metadata": {},
   "source": [
    "We can now extract the first and second non-principal eigenvectors for visualization"
   ]
  },
  {
   "cell_type": "code",
   "execution_count": 11,
   "metadata": {},
   "outputs": [
    {
     "data": {
      "text/plain": [
       "array([[ 0.2149818 , -0.77975547],\n",
       "       [-0.79803158,  0.20681425],\n",
       "       [ 0.56296396,  0.59093932]])"
      ]
     },
     "execution_count": 11,
     "metadata": {},
     "output_type": "execute_result"
    }
   ],
   "source": [
    "# Extract the 2 non-principal eigenvectors.\n",
    "#\n",
    "# The eig() function returns 2 arrays: the\n",
    "# first represents eigenvalues, the second\n",
    "# eigenvectors. The eigenvectors are not\n",
    "# arranged in order of magnitude. We sort\n",
    "# and then sample the second and third vectors\n",
    "eig_vals, eig_vecs = np.linalg.eig(L)\n",
    "eig_vecs = eig_vecs[:, eig_vals.argsort()[::][1:]]\n",
    "eig_vecs"
   ]
  },
  {
   "cell_type": "markdown",
   "metadata": {},
   "source": [
    "The authors also define a bi-class clustering strength measure $z^{*} = D^{1/2}g_{1}^{*}$ where $g^{*}$ is the first non-principal eigenvector for the normalized spectral optimization."
   ]
  },
  {
   "cell_type": "code",
   "execution_count": 12,
   "metadata": {},
   "outputs": [
    {
     "data": {
      "text/plain": [
       "array([ 0.55619144, -1.98738002,  1.43118858])"
      ]
     },
     "execution_count": 12,
     "metadata": {},
     "output_type": "execute_result"
    }
   ],
   "source": [
    "# Components of the first non-principal\n",
    "# eigenvectors in the feature space.\n",
    "#\n",
    "# Note that here we're just duplicating\n",
    "# D_sqrt column-wise so that its dimensionality\n",
    "# is equal to that of npeigen\n",
    "z = np.sqrt(d) * eig_vecs[:, 0]\n",
    "z"
   ]
  },
  {
   "cell_type": "markdown",
   "metadata": {},
   "source": [
    "Finally, we can delineate between the normal case and cases where only one major pattern exists:"
   ]
  },
  {
   "cell_type": "code",
   "execution_count": 13,
   "metadata": {},
   "outputs": [
    {
     "data": {
      "text/plain": [
       "array([-0.55619144,  1.98738002, -1.43118858])"
      ]
     },
     "execution_count": 13,
     "metadata": {},
     "output_type": "execute_result"
    }
   ],
   "source": [
    "# Let C_p be the positive class and and C_n\n",
    "# the negative class assigned based on the\n",
    "# sign of the 1st non-principal eigenvector\n",
    "# component of z\n",
    "C = np.sign(z)\n",
    "C_cnt = np.unique(C, return_counts=True)\n",
    "C_cnt = pd.DataFrame(\n",
    "    data=np.array(C_cnt[1])[np.newaxis],\n",
    "    columns=C_cnt[0])\n",
    "\n",
    "if C_cnt.iloc[[0]].min(axis=1)[0]/n >= 0.4:\n",
    "    mFLAG = 1\n",
    "    f = np.max(np.abs(z)) - np.abs(z)\n",
    "else:\n",
    "    if C_cnt[1][0] > C_cnt[-1][0]:\n",
    "        mFLAG = 0\n",
    "        f = -z\n",
    "    else:\n",
    "        mFLAG = 0\n",
    "        f = z\n",
    "f"
   ]
  },
  {
   "cell_type": "code",
   "execution_count": 14,
   "metadata": {},
   "outputs": [
    {
     "data": {
      "image/png": "[encoded data removed]",
      "text/plain": [
       "<Figure size 432x288 with 2 Axes>"
      ]
     },
     "metadata": {
      "needs_background": "light"
     },
     "output_type": "display_data"
    }
   ],
   "source": [
    "p = plt.scatter(\n",
    "    x=eig_vecs[:, 1],\n",
    "    y=eig_vecs[:, 0],\n",
    "    c=f,\n",
    "    cmap='seismic'\n",
    ")\n",
    "p = plt.colorbar()"
   ]
  }
 ],
 "metadata": {
  "kernelspec": {
   "display_name": "Python 3",
   "language": "python",
   "name": "python3"
  },
  "language_info": {
   "codemirror_mode": {
    "name": "ipython",
    "version": 3
   },
   "file_extension": ".py",
   "mimetype": "text/x-python",
   "name": "python",
   "nbconvert_exporter": "python",
   "pygments_lexer": "ipython3",
   "version": "3.9.1"
  }
 },
 "nbformat": 4,
 "nbformat_minor": 4
}
